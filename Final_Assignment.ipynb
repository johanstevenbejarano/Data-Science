{
  "cells": [
    {
      "cell_type": "markdown",
      "metadata": {
        "id": "d33309a1-d9e4-4752-bd1d-2dfcd6c29de1"
      },
      "source": [
        "<p style=\"text-align:center\">\n",
        "    <a href=\"https://skills.network/?utm_medium=Exinfluencer&utm_source=Exinfluencer&utm_content=000026UJ&utm_term=10006555&utm_id=NA-SkillsNetwork-Channel-SkillsNetworkCoursesIBMDeveloperSkillsNetworkPY0220ENSkillsNetwork900-2022-01-01\" target=\"_blank\">\n",
        "    <img src=\"https://cf-courses-data.s3.us.cloud-object-storage.appdomain.cloud/assets/logos/SN_web_lightmode.png\" width=\"200\" alt=\"Skills Network Logo\">\n",
        "    </a>\n",
        "</p>\n"
      ]
    },
    {
      "cell_type": "markdown",
      "metadata": {
        "id": "a95cc938-8d27-42b4-8025-1d908167817a"
      },
      "source": [
        "<h1>Extracting and Visualizing Stock Data</h1>\n",
        "<h2>Description</h2>\n"
      ]
    },
    {
      "cell_type": "markdown",
      "metadata": {
        "id": "c8ce94fb-d389-4f39-8dee-c082fc28b849"
      },
      "source": [
        "Extracting essential data from a dataset and displaying it is a necessary part of data science; therefore individuals can make correct decisions based on the data. In this assignment, you will extract some stock data, you will then display this data in a graph.\n"
      ]
    },
    {
      "cell_type": "markdown",
      "metadata": {
        "id": "4bebef78-0bfb-4649-98fe-b35654c6eb45"
      },
      "source": [
        "<h2>Table of Contents</h2>\n",
        "<div class=\"alert alert-block alert-info\" style=\"margin-top: 20px\">\n",
        "    <ul>\n",
        "        <li>Define a Function that Makes a Graph</li>\n",
        "        <li>Question 1: Use yfinance to Extract Stock Data</li>\n",
        "        <li>Question 2: Use Webscraping to Extract Tesla Revenue Data</li>\n",
        "        <li>Question 3: Use yfinance to Extract Stock Data</li>\n",
        "        <li>Question 4: Use Webscraping to Extract GME Revenue Data</li>\n",
        "        <li>Question 5: Plot Tesla Stock Graph</li>\n",
        "        <li>Question 6: Plot GameStop Stock Graph</li>\n",
        "    </ul>\n",
        "<p>\n",
        "    Estimated Time Needed: <strong>30 min</strong></p>\n",
        "</div>\n",
        "\n",
        "<hr>\n"
      ]
    },
    {
      "cell_type": "markdown",
      "metadata": {
        "id": "be9b7719-8aa6-4b28-9b09-1f91b84d74b1"
      },
      "source": [
        "***Note***:- If you are working Locally using anaconda, please uncomment the following code and execute it.\n",
        "Use the version as per your python version.\n"
      ]
    },
    {
      "cell_type": "code",
      "metadata": {
        "colab": {
          "base_uri": "https://localhost:8080/"
        },
        "id": "244ae1b2-710b-496b-a226-dc7fac5b10d2",
        "outputId": "3eff3835-e8cd-49ab-80a4-163f21f5751e"
      },
      "outputs": [
        {
          "output_type": "stream",
          "name": "stdout",
          "text": [
            "Requirement already satisfied: yfinance in /usr/local/lib/python3.11/dist-packages (0.2.55)\n",
            "Requirement already satisfied: pandas>=1.3.0 in /usr/local/lib/python3.11/dist-packages (from yfinance) (2.2.2)\n",
            "Requirement already satisfied: numpy>=1.16.5 in /usr/local/lib/python3.11/dist-packages (from yfinance) (2.0.2)\n",
            "Requirement already satisfied: requests>=2.31 in /usr/local/lib/python3.11/dist-packages (from yfinance) (2.32.3)\n",
            "Requirement already satisfied: multitasking>=0.0.7 in /usr/local/lib/python3.11/dist-packages (from yfinance) (0.0.11)\n",
            "Requirement already satisfied: platformdirs>=2.0.0 in /usr/local/lib/python3.11/dist-packages (from yfinance) (4.3.7)\n",
            "Requirement already satisfied: pytz>=2022.5 in /usr/local/lib/python3.11/dist-packages (from yfinance) (2025.2)\n",
            "Requirement already satisfied: frozendict>=2.3.4 in /usr/local/lib/python3.11/dist-packages (from yfinance) (2.4.6)\n",
            "Requirement already satisfied: peewee>=3.16.2 in /usr/local/lib/python3.11/dist-packages (from yfinance) (3.17.9)\n",
            "Requirement already satisfied: beautifulsoup4>=4.11.1 in /usr/local/lib/python3.11/dist-packages (from yfinance) (4.13.3)\n",
            "Requirement already satisfied: soupsieve>1.2 in /usr/local/lib/python3.11/dist-packages (from beautifulsoup4>=4.11.1->yfinance) (2.6)\n",
            "Requirement already satisfied: typing-extensions>=4.0.0 in /usr/local/lib/python3.11/dist-packages (from beautifulsoup4>=4.11.1->yfinance) (4.13.1)\n",
            "Requirement already satisfied: python-dateutil>=2.8.2 in /usr/local/lib/python3.11/dist-packages (from pandas>=1.3.0->yfinance) (2.8.2)\n",
            "Requirement already satisfied: tzdata>=2022.7 in /usr/local/lib/python3.11/dist-packages (from pandas>=1.3.0->yfinance) (2025.2)\n",
            "Requirement already satisfied: charset-normalizer<4,>=2 in /usr/local/lib/python3.11/dist-packages (from requests>=2.31->yfinance) (3.4.1)\n",
            "Requirement already satisfied: idna<4,>=2.5 in /usr/local/lib/python3.11/dist-packages (from requests>=2.31->yfinance) (3.10)\n",
            "Requirement already satisfied: urllib3<3,>=1.21.1 in /usr/local/lib/python3.11/dist-packages (from requests>=2.31->yfinance) (2.3.0)\n",
            "Requirement already satisfied: certifi>=2017.4.17 in /usr/local/lib/python3.11/dist-packages (from requests>=2.31->yfinance) (2025.1.31)\n",
            "Requirement already satisfied: six>=1.5 in /usr/local/lib/python3.11/dist-packages (from python-dateutil>=2.8.2->pandas>=1.3.0->yfinance) (1.17.0)\n",
            "Collecting bs4\n",
            "  Downloading bs4-0.0.2-py2.py3-none-any.whl.metadata (411 bytes)\n",
            "Requirement already satisfied: beautifulsoup4 in /usr/local/lib/python3.11/dist-packages (from bs4) (4.13.3)\n",
            "Requirement already satisfied: soupsieve>1.2 in /usr/local/lib/python3.11/dist-packages (from beautifulsoup4->bs4) (2.6)\n",
            "Requirement already satisfied: typing-extensions>=4.0.0 in /usr/local/lib/python3.11/dist-packages (from beautifulsoup4->bs4) (4.13.1)\n",
            "Downloading bs4-0.0.2-py2.py3-none-any.whl (1.2 kB)\n",
            "Installing collected packages: bs4\n",
            "Successfully installed bs4-0.0.2\n",
            "Requirement already satisfied: nbformat in /usr/local/lib/python3.11/dist-packages (5.10.4)\n",
            "Requirement already satisfied: fastjsonschema>=2.15 in /usr/local/lib/python3.11/dist-packages (from nbformat) (2.21.1)\n",
            "Requirement already satisfied: jsonschema>=2.6 in /usr/local/lib/python3.11/dist-packages (from nbformat) (4.23.0)\n",
            "Requirement already satisfied: jupyter-core!=5.0.*,>=4.12 in /usr/local/lib/python3.11/dist-packages (from nbformat) (5.7.2)\n",
            "Requirement already satisfied: traitlets>=5.1 in /usr/local/lib/python3.11/dist-packages (from nbformat) (5.7.1)\n",
            "Requirement already satisfied: attrs>=22.2.0 in /usr/local/lib/python3.11/dist-packages (from jsonschema>=2.6->nbformat) (25.3.0)\n",
            "Requirement already satisfied: jsonschema-specifications>=2023.03.6 in /usr/local/lib/python3.11/dist-packages (from jsonschema>=2.6->nbformat) (2024.10.1)\n",
            "Requirement already satisfied: referencing>=0.28.4 in /usr/local/lib/python3.11/dist-packages (from jsonschema>=2.6->nbformat) (0.36.2)\n",
            "Requirement already satisfied: rpds-py>=0.7.1 in /usr/local/lib/python3.11/dist-packages (from jsonschema>=2.6->nbformat) (0.24.0)\n",
            "Requirement already satisfied: platformdirs>=2.5 in /usr/local/lib/python3.11/dist-packages (from jupyter-core!=5.0.*,>=4.12->nbformat) (4.3.7)\n",
            "Requirement already satisfied: typing-extensions>=4.4.0 in /usr/local/lib/python3.11/dist-packages (from referencing>=0.28.4->jsonschema>=2.6->nbformat) (4.13.1)\n",
            "Requirement already satisfied: plotly in /usr/local/lib/python3.11/dist-packages (5.24.1)\n",
            "Collecting plotly\n",
            "  Downloading plotly-6.0.1-py3-none-any.whl.metadata (6.7 kB)\n",
            "Requirement already satisfied: narwhals>=1.15.1 in /usr/local/lib/python3.11/dist-packages (from plotly) (1.33.0)\n",
            "Requirement already satisfied: packaging in /usr/local/lib/python3.11/dist-packages (from plotly) (24.2)\n",
            "Downloading plotly-6.0.1-py3-none-any.whl (14.8 MB)\n",
            "\u001b[2K   \u001b[90m━━━━━━━━━━━━━━━━━━━━━━━━━━━━━━━━━━━━━━━━\u001b[0m \u001b[32m14.8/14.8 MB\u001b[0m \u001b[31m63.2 MB/s\u001b[0m eta \u001b[36m0:00:00\u001b[0m\n",
            "\u001b[?25hInstalling collected packages: plotly\n",
            "  Attempting uninstall: plotly\n",
            "    Found existing installation: plotly 5.24.1\n",
            "    Uninstalling plotly-5.24.1:\n",
            "      Successfully uninstalled plotly-5.24.1\n",
            "Successfully installed plotly-6.0.1\n"
          ]
        }
      ],
      "source": [
        "!pip install yfinance\n",
        "!pip install bs4\n",
        "!pip install nbformat\n",
        "!pip install --upgrade plotly"
      ],
      "execution_count": 1
    },
    {
      "cell_type": "code",
      "metadata": {
        "id": "5fd2aa81-d8f3-4fe3-a95b-7e7c4823c4c8"
      },
      "outputs": [],
      "source": [
        "import yfinance as yf\n",
        "import pandas as pd\n",
        "import requests\n",
        "from bs4 import BeautifulSoup\n",
        "import plotly.graph_objects as go\n",
        "from plotly.subplots import make_subplots"
      ],
      "execution_count": 2
    },
    {
      "cell_type": "code",
      "metadata": {
        "id": "ab50ba35-ae93-4a5b-8fde-33dbc8228582"
      },
      "outputs": [],
      "source": [
        "import plotly.io as pio\n",
        "pio.renderers.default = \"iframe\""
      ],
      "execution_count": 3
    },
    {
      "cell_type": "markdown",
      "metadata": {
        "id": "5c1644ae-3933-4b32-a8f4-e09e667b1426"
      },
      "source": [
        "In Python, you can ignore warnings using the warnings module. You can use the filterwarnings function to filter or ignore specific warning messages or categories.\n"
      ]
    },
    {
      "cell_type": "code",
      "metadata": {
        "id": "6f4b5203-12ee-4b99-837b-32e520486d86"
      },
      "outputs": [],
      "source": [
        "import warnings\n",
        "# Ignore all warnings\n",
        "warnings.filterwarnings(\"ignore\", category=FutureWarning)"
      ],
      "execution_count": 4
    },
    {
      "cell_type": "markdown",
      "metadata": {
        "id": "66740a0e-695f-4945-8199-b5ff3a6b6dd8"
      },
      "source": [
        "## Define Graphing Function\n"
      ]
    },
    {
      "cell_type": "markdown",
      "metadata": {
        "id": "0a05d895-d01c-4194-89af-d87a4fb3f76d"
      },
      "source": [
        "In this section, we define the function `make_graph`. **You don't have to know how the function works, you should only care about the inputs. It takes a dataframe with stock data (dataframe must contain Date and Close columns), a dataframe with revenue data (dataframe must contain Date and Revenue columns), and the name of the stock.**\n"
      ]
    },
    {
      "cell_type": "code",
      "metadata": {
        "id": "ca1cfe5e-22a2-4164-ba70-8aa4329c0bcc"
      },
      "outputs": [],
      "source": [
        "def make_graph(stock_data, revenue_data, stock):\n",
        "    fig = make_subplots(rows=2, cols=1, shared_xaxes=True, subplot_titles=(\"Historical Share Price\", \"Historical Revenue\"), vertical_spacing = .3)\n",
        "    stock_data_specific = stock_data[stock_data.Date <= '2021-06-14']\n",
        "    revenue_data_specific = revenue_data[revenue_data.Date <= '2021-04-30']\n",
        "    fig.add_trace(go.Scatter(x=pd.to_datetime(stock_data_specific.Date, infer_datetime_format=True), y=stock_data_specific.Close.astype(\"float\"), name=\"Share Price\"), row=1, col=1)\n",
        "    fig.add_trace(go.Scatter(x=pd.to_datetime(revenue_data_specific.Date, infer_datetime_format=True), y=revenue_data_specific.Revenue.astype(\"float\"), name=\"Revenue\"), row=2, col=1)\n",
        "    fig.update_xaxes(title_text=\"Date\", row=1, col=1)\n",
        "    fig.update_xaxes(title_text=\"Date\", row=2, col=1)\n",
        "    fig.update_yaxes(title_text=\"Price ($US)\", row=1, col=1)\n",
        "    fig.update_yaxes(title_text=\"Revenue ($US Millions)\", row=2, col=1)\n",
        "    fig.update_layout(showlegend=False,\n",
        "    height=900,\n",
        "    title=stock,\n",
        "    xaxis_rangeslider_visible=True)\n",
        "    fig.show()\n",
        "    from IPython.display import display, HTML\n",
        "    fig_html = fig.to_html()\n",
        "    display(HTML(fig_html))"
      ],
      "execution_count": 5
    },
    {
      "cell_type": "markdown",
      "metadata": {
        "id": "8cc4486c-7cc6-44ff-8bac-0d321516c59d"
      },
      "source": [
        "Use the make_graph function that we’ve already defined. You’ll need to invoke it in questions 5 and 6 to display the graphs and create the dashboard.\n",
        "> **Note: You don’t need to redefine the function for plotting graphs anywhere else in this notebook; just use the existing function.**\n"
      ]
    },
    {
      "cell_type": "markdown",
      "metadata": {
        "id": "a44bac85-84fe-4377-83b3-e8c7865bd079"
      },
      "source": [
        "## Question 1: Use yfinance to Extract Stock Data\n"
      ]
    },
    {
      "cell_type": "markdown",
      "metadata": {
        "id": "a9c4c114-6eb9-4db6-ac89-e109af655005"
      },
      "source": [
        "Using the `Ticker` function enter the ticker symbol of the stock we want to extract data on to create a ticker object. The stock is Tesla and its ticker symbol is `TSLA`.\n"
      ]
    },
    {
      "cell_type": "code",
      "metadata": {
        "id": "99444990-b2a4-413d-a7de-96855b4b2f2f"
      },
      "outputs": [],
      "source": [
        "import yfinance as yf\n",
        "# Crear el objeto Ticker para Tesla (TSLA)\n",
        "tesla = yf.Ticker(\"TSLA\")\n",
        "# Extraer los datos históricos de Tesla con el máximo rango de tiempo disponible\n",
        "tesla_data = tesla.history(period=\"max\")"
      ],
      "execution_count": 7
    },
    {
      "cell_type": "markdown",
      "metadata": {
        "id": "d1900ff1-e94d-4503-aede-ff287eb75fad"
      },
      "source": [
        "Using the ticker object and the function `history` extract stock information and save it in a dataframe named `tesla_data`. Set the `period` parameter to ` \"max\" ` so we get information for the maximum amount of time.\n"
      ]
    },
    {
      "cell_type": "code",
      "metadata": {
        "colab": {
          "base_uri": "https://localhost:8080/",
          "height": 206
        },
        "id": "abb5327e-46eb-4140-a147-407c14df655c",
        "outputId": "5df7cfb0-c90e-4712-e831-efec896f9dff"
      },
      "outputs": [
        {
          "output_type": "execute_result",
          "data": {
            "text/plain": [
              "                       Date      Open      High       Low     Close  \\\n",
              "0 2010-06-29 00:00:00-04:00  1.266667  1.666667  1.169333  1.592667   \n",
              "1 2010-06-30 00:00:00-04:00  1.719333  2.028000  1.553333  1.588667   \n",
              "2 2010-07-01 00:00:00-04:00  1.666667  1.728000  1.351333  1.464000   \n",
              "3 2010-07-02 00:00:00-04:00  1.533333  1.540000  1.247333  1.280000   \n",
              "4 2010-07-06 00:00:00-04:00  1.333333  1.333333  1.055333  1.074000   \n",
              "\n",
              "      Volume  Dividends  Stock Splits  \n",
              "0  281494500        0.0           0.0  \n",
              "1  257806500        0.0           0.0  \n",
              "2  123282000        0.0           0.0  \n",
              "3   77097000        0.0           0.0  \n",
              "4  103003500        0.0           0.0  "
            ],
            "text/html": [
              "\n",
              "  <div id=\"df-9e6d43ae-45c6-421e-8de4-e8b173c60bc1\" class=\"colab-df-container\">\n",
              "    <div>\n",
              "<style scoped>\n",
              "    .dataframe tbody tr th:only-of-type {\n",
              "        vertical-align: middle;\n",
              "    }\n",
              "\n",
              "    .dataframe tbody tr th {\n",
              "        vertical-align: top;\n",
              "    }\n",
              "\n",
              "    .dataframe thead th {\n",
              "        text-align: right;\n",
              "    }\n",
              "</style>\n",
              "<table border=\"1\" class=\"dataframe\">\n",
              "  <thead>\n",
              "    <tr style=\"text-align: right;\">\n",
              "      <th></th>\n",
              "      <th>Date</th>\n",
              "      <th>Open</th>\n",
              "      <th>High</th>\n",
              "      <th>Low</th>\n",
              "      <th>Close</th>\n",
              "      <th>Volume</th>\n",
              "      <th>Dividends</th>\n",
              "      <th>Stock Splits</th>\n",
              "    </tr>\n",
              "  </thead>\n",
              "  <tbody>\n",
              "    <tr>\n",
              "      <th>0</th>\n",
              "      <td>2010-06-29 00:00:00-04:00</td>\n",
              "      <td>1.266667</td>\n",
              "      <td>1.666667</td>\n",
              "      <td>1.169333</td>\n",
              "      <td>1.592667</td>\n",
              "      <td>281494500</td>\n",
              "      <td>0.0</td>\n",
              "      <td>0.0</td>\n",
              "    </tr>\n",
              "    <tr>\n",
              "      <th>1</th>\n",
              "      <td>2010-06-30 00:00:00-04:00</td>\n",
              "      <td>1.719333</td>\n",
              "      <td>2.028000</td>\n",
              "      <td>1.553333</td>\n",
              "      <td>1.588667</td>\n",
              "      <td>257806500</td>\n",
              "      <td>0.0</td>\n",
              "      <td>0.0</td>\n",
              "    </tr>\n",
              "    <tr>\n",
              "      <th>2</th>\n",
              "      <td>2010-07-01 00:00:00-04:00</td>\n",
              "      <td>1.666667</td>\n",
              "      <td>1.728000</td>\n",
              "      <td>1.351333</td>\n",
              "      <td>1.464000</td>\n",
              "      <td>123282000</td>\n",
              "      <td>0.0</td>\n",
              "      <td>0.0</td>\n",
              "    </tr>\n",
              "    <tr>\n",
              "      <th>3</th>\n",
              "      <td>2010-07-02 00:00:00-04:00</td>\n",
              "      <td>1.533333</td>\n",
              "      <td>1.540000</td>\n",
              "      <td>1.247333</td>\n",
              "      <td>1.280000</td>\n",
              "      <td>77097000</td>\n",
              "      <td>0.0</td>\n",
              "      <td>0.0</td>\n",
              "    </tr>\n",
              "    <tr>\n",
              "      <th>4</th>\n",
              "      <td>2010-07-06 00:00:00-04:00</td>\n",
              "      <td>1.333333</td>\n",
              "      <td>1.333333</td>\n",
              "      <td>1.055333</td>\n",
              "      <td>1.074000</td>\n",
              "      <td>103003500</td>\n",
              "      <td>0.0</td>\n",
              "      <td>0.0</td>\n",
              "    </tr>\n",
              "  </tbody>\n",
              "</table>\n",
              "</div>\n",
              "    <div class=\"colab-df-buttons\">\n",
              "\n",
              "  <div class=\"colab-df-container\">\n",
              "    <button class=\"colab-df-convert\" onclick=\"convertToInteractive('df-9e6d43ae-45c6-421e-8de4-e8b173c60bc1')\"\n",
              "            title=\"Convert this dataframe to an interactive table.\"\n",
              "            style=\"display:none;\">\n",
              "\n",
              "  <svg xmlns=\"http://www.w3.org/2000/svg\" height=\"24px\" viewBox=\"0 -960 960 960\">\n",
              "    <path d=\"M120-120v-720h720v720H120Zm60-500h600v-160H180v160Zm220 220h160v-160H400v160Zm0 220h160v-160H400v160ZM180-400h160v-160H180v160Zm440 0h160v-160H620v160ZM180-180h160v-160H180v160Zm440 0h160v-160H620v160Z\"/>\n",
              "  </svg>\n",
              "    </button>\n",
              "\n",
              "  <style>\n",
              "    .colab-df-container {\n",
              "      display:flex;\n",
              "      gap: 12px;\n",
              "    }\n",
              "\n",
              "    .colab-df-convert {\n",
              "      background-color: #E8F0FE;\n",
              "      border: none;\n",
              "      border-radius: 50%;\n",
              "      cursor: pointer;\n",
              "      display: none;\n",
              "      fill: #1967D2;\n",
              "      height: 32px;\n",
              "      padding: 0 0 0 0;\n",
              "      width: 32px;\n",
              "    }\n",
              "\n",
              "    .colab-df-convert:hover {\n",
              "      background-color: #E2EBFA;\n",
              "      box-shadow: 0px 1px 2px rgba(60, 64, 67, 0.3), 0px 1px 3px 1px rgba(60, 64, 67, 0.15);\n",
              "      fill: #174EA6;\n",
              "    }\n",
              "\n",
              "    .colab-df-buttons div {\n",
              "      margin-bottom: 4px;\n",
              "    }\n",
              "\n",
              "    [theme=dark] .colab-df-convert {\n",
              "      background-color: #3B4455;\n",
              "      fill: #D2E3FC;\n",
              "    }\n",
              "\n",
              "    [theme=dark] .colab-df-convert:hover {\n",
              "      background-color: #434B5C;\n",
              "      box-shadow: 0px 1px 3px 1px rgba(0, 0, 0, 0.15);\n",
              "      filter: drop-shadow(0px 1px 2px rgba(0, 0, 0, 0.3));\n",
              "      fill: #FFFFFF;\n",
              "    }\n",
              "  </style>\n",
              "\n",
              "    <script>\n",
              "      const buttonEl =\n",
              "        document.querySelector('#df-9e6d43ae-45c6-421e-8de4-e8b173c60bc1 button.colab-df-convert');\n",
              "      buttonEl.style.display =\n",
              "        google.colab.kernel.accessAllowed ? 'block' : 'none';\n",
              "\n",
              "      async function convertToInteractive(key) {\n",
              "        const element = document.querySelector('#df-9e6d43ae-45c6-421e-8de4-e8b173c60bc1');\n",
              "        const dataTable =\n",
              "          await google.colab.kernel.invokeFunction('convertToInteractive',\n",
              "                                                    [key], {});\n",
              "        if (!dataTable) return;\n",
              "\n",
              "        const docLinkHtml = 'Like what you see? Visit the ' +\n",
              "          '<a target=\"_blank\" href=https://colab.research.google.com/notebooks/data_table.ipynb>data table notebook</a>'\n",
              "          + ' to learn more about interactive tables.';\n",
              "        element.innerHTML = '';\n",
              "        dataTable['output_type'] = 'display_data';\n",
              "        await google.colab.output.renderOutput(dataTable, element);\n",
              "        const docLink = document.createElement('div');\n",
              "        docLink.innerHTML = docLinkHtml;\n",
              "        element.appendChild(docLink);\n",
              "      }\n",
              "    </script>\n",
              "  </div>\n",
              "\n",
              "\n",
              "<div id=\"df-2950560d-67ad-4a33-a68c-e502a01651d7\">\n",
              "  <button class=\"colab-df-quickchart\" onclick=\"quickchart('df-2950560d-67ad-4a33-a68c-e502a01651d7')\"\n",
              "            title=\"Suggest charts\"\n",
              "            style=\"display:none;\">\n",
              "\n",
              "<svg xmlns=\"http://www.w3.org/2000/svg\" height=\"24px\"viewBox=\"0 0 24 24\"\n",
              "     width=\"24px\">\n",
              "    <g>\n",
              "        <path d=\"M19 3H5c-1.1 0-2 .9-2 2v14c0 1.1.9 2 2 2h14c1.1 0 2-.9 2-2V5c0-1.1-.9-2-2-2zM9 17H7v-7h2v7zm4 0h-2V7h2v10zm4 0h-2v-4h2v4z\"/>\n",
              "    </g>\n",
              "</svg>\n",
              "  </button>\n",
              "\n",
              "<style>\n",
              "  .colab-df-quickchart {\n",
              "      --bg-color: #E8F0FE;\n",
              "      --fill-color: #1967D2;\n",
              "      --hover-bg-color: #E2EBFA;\n",
              "      --hover-fill-color: #174EA6;\n",
              "      --disabled-fill-color: #AAA;\n",
              "      --disabled-bg-color: #DDD;\n",
              "  }\n",
              "\n",
              "  [theme=dark] .colab-df-quickchart {\n",
              "      --bg-color: #3B4455;\n",
              "      --fill-color: #D2E3FC;\n",
              "      --hover-bg-color: #434B5C;\n",
              "      --hover-fill-color: #FFFFFF;\n",
              "      --disabled-bg-color: #3B4455;\n",
              "      --disabled-fill-color: #666;\n",
              "  }\n",
              "\n",
              "  .colab-df-quickchart {\n",
              "    background-color: var(--bg-color);\n",
              "    border: none;\n",
              "    border-radius: 50%;\n",
              "    cursor: pointer;\n",
              "    display: none;\n",
              "    fill: var(--fill-color);\n",
              "    height: 32px;\n",
              "    padding: 0;\n",
              "    width: 32px;\n",
              "  }\n",
              "\n",
              "  .colab-df-quickchart:hover {\n",
              "    background-color: var(--hover-bg-color);\n",
              "    box-shadow: 0 1px 2px rgba(60, 64, 67, 0.3), 0 1px 3px 1px rgba(60, 64, 67, 0.15);\n",
              "    fill: var(--button-hover-fill-color);\n",
              "  }\n",
              "\n",
              "  .colab-df-quickchart-complete:disabled,\n",
              "  .colab-df-quickchart-complete:disabled:hover {\n",
              "    background-color: var(--disabled-bg-color);\n",
              "    fill: var(--disabled-fill-color);\n",
              "    box-shadow: none;\n",
              "  }\n",
              "\n",
              "  .colab-df-spinner {\n",
              "    border: 2px solid var(--fill-color);\n",
              "    border-color: transparent;\n",
              "    border-bottom-color: var(--fill-color);\n",
              "    animation:\n",
              "      spin 1s steps(1) infinite;\n",
              "  }\n",
              "\n",
              "  @keyframes spin {\n",
              "    0% {\n",
              "      border-color: transparent;\n",
              "      border-bottom-color: var(--fill-color);\n",
              "      border-left-color: var(--fill-color);\n",
              "    }\n",
              "    20% {\n",
              "      border-color: transparent;\n",
              "      border-left-color: var(--fill-color);\n",
              "      border-top-color: var(--fill-color);\n",
              "    }\n",
              "    30% {\n",
              "      border-color: transparent;\n",
              "      border-left-color: var(--fill-color);\n",
              "      border-top-color: var(--fill-color);\n",
              "      border-right-color: var(--fill-color);\n",
              "    }\n",
              "    40% {\n",
              "      border-color: transparent;\n",
              "      border-right-color: var(--fill-color);\n",
              "      border-top-color: var(--fill-color);\n",
              "    }\n",
              "    60% {\n",
              "      border-color: transparent;\n",
              "      border-right-color: var(--fill-color);\n",
              "    }\n",
              "    80% {\n",
              "      border-color: transparent;\n",
              "      border-right-color: var(--fill-color);\n",
              "      border-bottom-color: var(--fill-color);\n",
              "    }\n",
              "    90% {\n",
              "      border-color: transparent;\n",
              "      border-bottom-color: var(--fill-color);\n",
              "    }\n",
              "  }\n",
              "</style>\n",
              "\n",
              "  <script>\n",
              "    async function quickchart(key) {\n",
              "      const quickchartButtonEl =\n",
              "        document.querySelector('#' + key + ' button');\n",
              "      quickchartButtonEl.disabled = true;  // To prevent multiple clicks.\n",
              "      quickchartButtonEl.classList.add('colab-df-spinner');\n",
              "      try {\n",
              "        const charts = await google.colab.kernel.invokeFunction(\n",
              "            'suggestCharts', [key], {});\n",
              "      } catch (error) {\n",
              "        console.error('Error during call to suggestCharts:', error);\n",
              "      }\n",
              "      quickchartButtonEl.classList.remove('colab-df-spinner');\n",
              "      quickchartButtonEl.classList.add('colab-df-quickchart-complete');\n",
              "    }\n",
              "    (() => {\n",
              "      let quickchartButtonEl =\n",
              "        document.querySelector('#df-2950560d-67ad-4a33-a68c-e502a01651d7 button');\n",
              "      quickchartButtonEl.style.display =\n",
              "        google.colab.kernel.accessAllowed ? 'block' : 'none';\n",
              "    })();\n",
              "  </script>\n",
              "</div>\n",
              "\n",
              "    </div>\n",
              "  </div>\n"
            ],
            "application/vnd.google.colaboratory.intrinsic+json": {
              "type": "dataframe",
              "variable_name": "tesla_data",
              "summary": "{\n  \"name\": \"tesla_data\",\n  \"rows\": 3721,\n  \"fields\": [\n    {\n      \"column\": \"Date\",\n      \"properties\": {\n        \"dtype\": \"date\",\n        \"min\": \"2010-06-29 00:00:00-04:00\",\n        \"max\": \"2025-04-11 00:00:00-04:00\",\n        \"num_unique_values\": 3721,\n        \"samples\": [\n          \"2014-02-03 00:00:00-05:00\",\n          \"2024-03-08 00:00:00-05:00\",\n          \"2017-08-02 00:00:00-04:00\"\n        ],\n        \"semantic_type\": \"\",\n        \"description\": \"\"\n      }\n    },\n    {\n      \"column\": \"Open\",\n      \"properties\": {\n        \"dtype\": \"number\",\n        \"std\": 111.96992044800182,\n        \"min\": 1.0759999752044678,\n        \"max\": 475.8999938964844,\n        \"num_unique_values\": 3402,\n        \"samples\": [\n          2.200000047683716,\n          20.779333114624023,\n          23.661333084106445\n        ],\n        \"semantic_type\": \"\",\n        \"description\": \"\"\n      }\n    },\n    {\n      \"column\": \"High\",\n      \"properties\": {\n        \"dtype\": \"number\",\n        \"std\": 114.51823159270315,\n        \"min\": 1.108667016029358,\n        \"max\": 488.5400085449219,\n        \"num_unique_values\": 3403,\n        \"samples\": [\n          2.1626670360565186,\n          20.055999755859375,\n          26.347999572753906\n        ],\n        \"semantic_type\": \"\",\n        \"description\": \"\"\n      }\n    },\n    {\n      \"column\": \"Low\",\n      \"properties\": {\n        \"dtype\": \"number\",\n        \"std\": 109.14427276894223,\n        \"min\": 0.9986670017242432,\n        \"max\": 457.510009765625,\n        \"num_unique_values\": 3418,\n        \"samples\": [\n          17.049999237060547,\n          182.83999633789062,\n          1.534000039100647\n        ],\n        \"semantic_type\": \"\",\n        \"description\": \"\"\n      }\n    },\n    {\n      \"column\": \"Close\",\n      \"properties\": {\n        \"dtype\": \"number\",\n        \"std\": 111.8592300543363,\n        \"min\": 1.053333044052124,\n        \"max\": 479.8599853515625,\n        \"num_unique_values\": 3514,\n        \"samples\": [\n          245.0366668701172,\n          1.4126670360565186,\n          2.25\n        ],\n        \"semantic_type\": \"\",\n        \"description\": \"\"\n      }\n    },\n    {\n      \"column\": \"Volume\",\n      \"properties\": {\n        \"dtype\": \"number\",\n        \"std\": 77229353,\n        \"min\": 1777500,\n        \"max\": 914082000,\n        \"num_unique_values\": 3690,\n        \"samples\": [\n          87397600,\n          58267200,\n          13666500\n        ],\n        \"semantic_type\": \"\",\n        \"description\": \"\"\n      }\n    },\n    {\n      \"column\": \"Dividends\",\n      \"properties\": {\n        \"dtype\": \"number\",\n        \"std\": 0.0,\n        \"min\": 0.0,\n        \"max\": 0.0,\n        \"num_unique_values\": 1,\n        \"samples\": [\n          0.0\n        ],\n        \"semantic_type\": \"\",\n        \"description\": \"\"\n      }\n    },\n    {\n      \"column\": \"Stock Splits\",\n      \"properties\": {\n        \"dtype\": \"number\",\n        \"std\": 0.09557803815215508,\n        \"min\": 0.0,\n        \"max\": 5.0,\n        \"num_unique_values\": 3,\n        \"samples\": [\n          0.0\n        ],\n        \"semantic_type\": \"\",\n        \"description\": \"\"\n      }\n    }\n  ]\n}"
            }
          },
          "metadata": {},
          "execution_count": 8
        }
      ],
      "source": [
        "# Restablecer el índice\n",
        "tesla_data.reset_index(inplace=True)\n",
        "# Mostrar las primeras 5 filas del DataFrame\n",
        "tesla_data.head()"
      ],
      "execution_count": 8
    },
    {
      "cell_type": "markdown",
      "metadata": {
        "id": "9ad97377-1201-4545-a48f-68e075a5a81f"
      },
      "source": [
        "**Reset the index** using the `reset_index(inplace=True)` function on the tesla_data DataFrame and display the first five rows of the `tesla_data` dataframe using the `head` function. Take a screenshot of the results and code from the beginning of Question 1 to the results below.\n"
      ]
    },
    {
      "cell_type": "code",
      "metadata": {
        "colab": {
          "base_uri": "https://localhost:8080/",
          "height": 206
        },
        "id": "e4f804e1-940c-4d0c-893b-16ece266ec2d",
        "outputId": "d8f69aae-ac8a-44d7-80b2-c4107dd475a2"
      },
      "outputs": [
        {
          "output_type": "execute_result",
          "data": {
            "text/plain": [
              "                       Date      Open      High       Low     Close  \\\n",
              "0 2010-06-29 00:00:00-04:00  1.266667  1.666667  1.169333  1.592667   \n",
              "1 2010-06-30 00:00:00-04:00  1.719333  2.028000  1.553333  1.588667   \n",
              "2 2010-07-01 00:00:00-04:00  1.666667  1.728000  1.351333  1.464000   \n",
              "3 2010-07-02 00:00:00-04:00  1.533333  1.540000  1.247333  1.280000   \n",
              "4 2010-07-06 00:00:00-04:00  1.333333  1.333333  1.055333  1.074000   \n",
              "\n",
              "      Volume  Dividends  Stock Splits  \n",
              "0  281494500        0.0           0.0  \n",
              "1  257806500        0.0           0.0  \n",
              "2  123282000        0.0           0.0  \n",
              "3   77097000        0.0           0.0  \n",
              "4  103003500        0.0           0.0  "
            ],
            "text/html": [
              "\n",
              "  <div id=\"df-1f9b5c85-08b5-4f28-b73c-803cb5c310a9\" class=\"colab-df-container\">\n",
              "    <div>\n",
              "<style scoped>\n",
              "    .dataframe tbody tr th:only-of-type {\n",
              "        vertical-align: middle;\n",
              "    }\n",
              "\n",
              "    .dataframe tbody tr th {\n",
              "        vertical-align: top;\n",
              "    }\n",
              "\n",
              "    .dataframe thead th {\n",
              "        text-align: right;\n",
              "    }\n",
              "</style>\n",
              "<table border=\"1\" class=\"dataframe\">\n",
              "  <thead>\n",
              "    <tr style=\"text-align: right;\">\n",
              "      <th></th>\n",
              "      <th>Date</th>\n",
              "      <th>Open</th>\n",
              "      <th>High</th>\n",
              "      <th>Low</th>\n",
              "      <th>Close</th>\n",
              "      <th>Volume</th>\n",
              "      <th>Dividends</th>\n",
              "      <th>Stock Splits</th>\n",
              "    </tr>\n",
              "  </thead>\n",
              "  <tbody>\n",
              "    <tr>\n",
              "      <th>0</th>\n",
              "      <td>2010-06-29 00:00:00-04:00</td>\n",
              "      <td>1.266667</td>\n",
              "      <td>1.666667</td>\n",
              "      <td>1.169333</td>\n",
              "      <td>1.592667</td>\n",
              "      <td>281494500</td>\n",
              "      <td>0.0</td>\n",
              "      <td>0.0</td>\n",
              "    </tr>\n",
              "    <tr>\n",
              "      <th>1</th>\n",
              "      <td>2010-06-30 00:00:00-04:00</td>\n",
              "      <td>1.719333</td>\n",
              "      <td>2.028000</td>\n",
              "      <td>1.553333</td>\n",
              "      <td>1.588667</td>\n",
              "      <td>257806500</td>\n",
              "      <td>0.0</td>\n",
              "      <td>0.0</td>\n",
              "    </tr>\n",
              "    <tr>\n",
              "      <th>2</th>\n",
              "      <td>2010-07-01 00:00:00-04:00</td>\n",
              "      <td>1.666667</td>\n",
              "      <td>1.728000</td>\n",
              "      <td>1.351333</td>\n",
              "      <td>1.464000</td>\n",
              "      <td>123282000</td>\n",
              "      <td>0.0</td>\n",
              "      <td>0.0</td>\n",
              "    </tr>\n",
              "    <tr>\n",
              "      <th>3</th>\n",
              "      <td>2010-07-02 00:00:00-04:00</td>\n",
              "      <td>1.533333</td>\n",
              "      <td>1.540000</td>\n",
              "      <td>1.247333</td>\n",
              "      <td>1.280000</td>\n",
              "      <td>77097000</td>\n",
              "      <td>0.0</td>\n",
              "      <td>0.0</td>\n",
              "    </tr>\n",
              "    <tr>\n",
              "      <th>4</th>\n",
              "      <td>2010-07-06 00:00:00-04:00</td>\n",
              "      <td>1.333333</td>\n",
              "      <td>1.333333</td>\n",
              "      <td>1.055333</td>\n",
              "      <td>1.074000</td>\n",
              "      <td>103003500</td>\n",
              "      <td>0.0</td>\n",
              "      <td>0.0</td>\n",
              "    </tr>\n",
              "  </tbody>\n",
              "</table>\n",
              "</div>\n",
              "    <div class=\"colab-df-buttons\">\n",
              "\n",
              "  <div class=\"colab-df-container\">\n",
              "    <button class=\"colab-df-convert\" onclick=\"convertToInteractive('df-1f9b5c85-08b5-4f28-b73c-803cb5c310a9')\"\n",
              "            title=\"Convert this dataframe to an interactive table.\"\n",
              "            style=\"display:none;\">\n",
              "\n",
              "  <svg xmlns=\"http://www.w3.org/2000/svg\" height=\"24px\" viewBox=\"0 -960 960 960\">\n",
              "    <path d=\"M120-120v-720h720v720H120Zm60-500h600v-160H180v160Zm220 220h160v-160H400v160Zm0 220h160v-160H400v160ZM180-400h160v-160H180v160Zm440 0h160v-160H620v160ZM180-180h160v-160H180v160Zm440 0h160v-160H620v160Z\"/>\n",
              "  </svg>\n",
              "    </button>\n",
              "\n",
              "  <style>\n",
              "    .colab-df-container {\n",
              "      display:flex;\n",
              "      gap: 12px;\n",
              "    }\n",
              "\n",
              "    .colab-df-convert {\n",
              "      background-color: #E8F0FE;\n",
              "      border: none;\n",
              "      border-radius: 50%;\n",
              "      cursor: pointer;\n",
              "      display: none;\n",
              "      fill: #1967D2;\n",
              "      height: 32px;\n",
              "      padding: 0 0 0 0;\n",
              "      width: 32px;\n",
              "    }\n",
              "\n",
              "    .colab-df-convert:hover {\n",
              "      background-color: #E2EBFA;\n",
              "      box-shadow: 0px 1px 2px rgba(60, 64, 67, 0.3), 0px 1px 3px 1px rgba(60, 64, 67, 0.15);\n",
              "      fill: #174EA6;\n",
              "    }\n",
              "\n",
              "    .colab-df-buttons div {\n",
              "      margin-bottom: 4px;\n",
              "    }\n",
              "\n",
              "    [theme=dark] .colab-df-convert {\n",
              "      background-color: #3B4455;\n",
              "      fill: #D2E3FC;\n",
              "    }\n",
              "\n",
              "    [theme=dark] .colab-df-convert:hover {\n",
              "      background-color: #434B5C;\n",
              "      box-shadow: 0px 1px 3px 1px rgba(0, 0, 0, 0.15);\n",
              "      filter: drop-shadow(0px 1px 2px rgba(0, 0, 0, 0.3));\n",
              "      fill: #FFFFFF;\n",
              "    }\n",
              "  </style>\n",
              "\n",
              "    <script>\n",
              "      const buttonEl =\n",
              "        document.querySelector('#df-1f9b5c85-08b5-4f28-b73c-803cb5c310a9 button.colab-df-convert');\n",
              "      buttonEl.style.display =\n",
              "        google.colab.kernel.accessAllowed ? 'block' : 'none';\n",
              "\n",
              "      async function convertToInteractive(key) {\n",
              "        const element = document.querySelector('#df-1f9b5c85-08b5-4f28-b73c-803cb5c310a9');\n",
              "        const dataTable =\n",
              "          await google.colab.kernel.invokeFunction('convertToInteractive',\n",
              "                                                    [key], {});\n",
              "        if (!dataTable) return;\n",
              "\n",
              "        const docLinkHtml = 'Like what you see? Visit the ' +\n",
              "          '<a target=\"_blank\" href=https://colab.research.google.com/notebooks/data_table.ipynb>data table notebook</a>'\n",
              "          + ' to learn more about interactive tables.';\n",
              "        element.innerHTML = '';\n",
              "        dataTable['output_type'] = 'display_data';\n",
              "        await google.colab.output.renderOutput(dataTable, element);\n",
              "        const docLink = document.createElement('div');\n",
              "        docLink.innerHTML = docLinkHtml;\n",
              "        element.appendChild(docLink);\n",
              "      }\n",
              "    </script>\n",
              "  </div>\n",
              "\n",
              "\n",
              "<div id=\"df-8cec4a38-fafe-42c5-b222-009957e15eab\">\n",
              "  <button class=\"colab-df-quickchart\" onclick=\"quickchart('df-8cec4a38-fafe-42c5-b222-009957e15eab')\"\n",
              "            title=\"Suggest charts\"\n",
              "            style=\"display:none;\">\n",
              "\n",
              "<svg xmlns=\"http://www.w3.org/2000/svg\" height=\"24px\"viewBox=\"0 0 24 24\"\n",
              "     width=\"24px\">\n",
              "    <g>\n",
              "        <path d=\"M19 3H5c-1.1 0-2 .9-2 2v14c0 1.1.9 2 2 2h14c1.1 0 2-.9 2-2V5c0-1.1-.9-2-2-2zM9 17H7v-7h2v7zm4 0h-2V7h2v10zm4 0h-2v-4h2v4z\"/>\n",
              "    </g>\n",
              "</svg>\n",
              "  </button>\n",
              "\n",
              "<style>\n",
              "  .colab-df-quickchart {\n",
              "      --bg-color: #E8F0FE;\n",
              "      --fill-color: #1967D2;\n",
              "      --hover-bg-color: #E2EBFA;\n",
              "      --hover-fill-color: #174EA6;\n",
              "      --disabled-fill-color: #AAA;\n",
              "      --disabled-bg-color: #DDD;\n",
              "  }\n",
              "\n",
              "  [theme=dark] .colab-df-quickchart {\n",
              "      --bg-color: #3B4455;\n",
              "      --fill-color: #D2E3FC;\n",
              "      --hover-bg-color: #434B5C;\n",
              "      --hover-fill-color: #FFFFFF;\n",
              "      --disabled-bg-color: #3B4455;\n",
              "      --disabled-fill-color: #666;\n",
              "  }\n",
              "\n",
              "  .colab-df-quickchart {\n",
              "    background-color: var(--bg-color);\n",
              "    border: none;\n",
              "    border-radius: 50%;\n",
              "    cursor: pointer;\n",
              "    display: none;\n",
              "    fill: var(--fill-color);\n",
              "    height: 32px;\n",
              "    padding: 0;\n",
              "    width: 32px;\n",
              "  }\n",
              "\n",
              "  .colab-df-quickchart:hover {\n",
              "    background-color: var(--hover-bg-color);\n",
              "    box-shadow: 0 1px 2px rgba(60, 64, 67, 0.3), 0 1px 3px 1px rgba(60, 64, 67, 0.15);\n",
              "    fill: var(--button-hover-fill-color);\n",
              "  }\n",
              "\n",
              "  .colab-df-quickchart-complete:disabled,\n",
              "  .colab-df-quickchart-complete:disabled:hover {\n",
              "    background-color: var(--disabled-bg-color);\n",
              "    fill: var(--disabled-fill-color);\n",
              "    box-shadow: none;\n",
              "  }\n",
              "\n",
              "  .colab-df-spinner {\n",
              "    border: 2px solid var(--fill-color);\n",
              "    border-color: transparent;\n",
              "    border-bottom-color: var(--fill-color);\n",
              "    animation:\n",
              "      spin 1s steps(1) infinite;\n",
              "  }\n",
              "\n",
              "  @keyframes spin {\n",
              "    0% {\n",
              "      border-color: transparent;\n",
              "      border-bottom-color: var(--fill-color);\n",
              "      border-left-color: var(--fill-color);\n",
              "    }\n",
              "    20% {\n",
              "      border-color: transparent;\n",
              "      border-left-color: var(--fill-color);\n",
              "      border-top-color: var(--fill-color);\n",
              "    }\n",
              "    30% {\n",
              "      border-color: transparent;\n",
              "      border-left-color: var(--fill-color);\n",
              "      border-top-color: var(--fill-color);\n",
              "      border-right-color: var(--fill-color);\n",
              "    }\n",
              "    40% {\n",
              "      border-color: transparent;\n",
              "      border-right-color: var(--fill-color);\n",
              "      border-top-color: var(--fill-color);\n",
              "    }\n",
              "    60% {\n",
              "      border-color: transparent;\n",
              "      border-right-color: var(--fill-color);\n",
              "    }\n",
              "    80% {\n",
              "      border-color: transparent;\n",
              "      border-right-color: var(--fill-color);\n",
              "      border-bottom-color: var(--fill-color);\n",
              "    }\n",
              "    90% {\n",
              "      border-color: transparent;\n",
              "      border-bottom-color: var(--fill-color);\n",
              "    }\n",
              "  }\n",
              "</style>\n",
              "\n",
              "  <script>\n",
              "    async function quickchart(key) {\n",
              "      const quickchartButtonEl =\n",
              "        document.querySelector('#' + key + ' button');\n",
              "      quickchartButtonEl.disabled = true;  // To prevent multiple clicks.\n",
              "      quickchartButtonEl.classList.add('colab-df-spinner');\n",
              "      try {\n",
              "        const charts = await google.colab.kernel.invokeFunction(\n",
              "            'suggestCharts', [key], {});\n",
              "      } catch (error) {\n",
              "        console.error('Error during call to suggestCharts:', error);\n",
              "      }\n",
              "      quickchartButtonEl.classList.remove('colab-df-spinner');\n",
              "      quickchartButtonEl.classList.add('colab-df-quickchart-complete');\n",
              "    }\n",
              "    (() => {\n",
              "      let quickchartButtonEl =\n",
              "        document.querySelector('#df-8cec4a38-fafe-42c5-b222-009957e15eab button');\n",
              "      quickchartButtonEl.style.display =\n",
              "        google.colab.kernel.accessAllowed ? 'block' : 'none';\n",
              "    })();\n",
              "  </script>\n",
              "</div>\n",
              "\n",
              "    </div>\n",
              "  </div>\n"
            ],
            "application/vnd.google.colaboratory.intrinsic+json": {
              "type": "dataframe",
              "variable_name": "tesla_data",
              "summary": "{\n  \"name\": \"tesla_data\",\n  \"rows\": 3721,\n  \"fields\": [\n    {\n      \"column\": \"Date\",\n      \"properties\": {\n        \"dtype\": \"date\",\n        \"min\": \"2010-06-29 00:00:00-04:00\",\n        \"max\": \"2025-04-11 00:00:00-04:00\",\n        \"num_unique_values\": 3721,\n        \"samples\": [\n          \"2014-02-03 00:00:00-05:00\",\n          \"2024-03-08 00:00:00-05:00\",\n          \"2017-08-02 00:00:00-04:00\"\n        ],\n        \"semantic_type\": \"\",\n        \"description\": \"\"\n      }\n    },\n    {\n      \"column\": \"Open\",\n      \"properties\": {\n        \"dtype\": \"number\",\n        \"std\": 111.96992044800182,\n        \"min\": 1.0759999752044678,\n        \"max\": 475.8999938964844,\n        \"num_unique_values\": 3402,\n        \"samples\": [\n          2.200000047683716,\n          20.779333114624023,\n          23.661333084106445\n        ],\n        \"semantic_type\": \"\",\n        \"description\": \"\"\n      }\n    },\n    {\n      \"column\": \"High\",\n      \"properties\": {\n        \"dtype\": \"number\",\n        \"std\": 114.51823159270315,\n        \"min\": 1.108667016029358,\n        \"max\": 488.5400085449219,\n        \"num_unique_values\": 3403,\n        \"samples\": [\n          2.1626670360565186,\n          20.055999755859375,\n          26.347999572753906\n        ],\n        \"semantic_type\": \"\",\n        \"description\": \"\"\n      }\n    },\n    {\n      \"column\": \"Low\",\n      \"properties\": {\n        \"dtype\": \"number\",\n        \"std\": 109.14427276894223,\n        \"min\": 0.9986670017242432,\n        \"max\": 457.510009765625,\n        \"num_unique_values\": 3418,\n        \"samples\": [\n          17.049999237060547,\n          182.83999633789062,\n          1.534000039100647\n        ],\n        \"semantic_type\": \"\",\n        \"description\": \"\"\n      }\n    },\n    {\n      \"column\": \"Close\",\n      \"properties\": {\n        \"dtype\": \"number\",\n        \"std\": 111.8592300543363,\n        \"min\": 1.053333044052124,\n        \"max\": 479.8599853515625,\n        \"num_unique_values\": 3514,\n        \"samples\": [\n          245.0366668701172,\n          1.4126670360565186,\n          2.25\n        ],\n        \"semantic_type\": \"\",\n        \"description\": \"\"\n      }\n    },\n    {\n      \"column\": \"Volume\",\n      \"properties\": {\n        \"dtype\": \"number\",\n        \"std\": 77229353,\n        \"min\": 1777500,\n        \"max\": 914082000,\n        \"num_unique_values\": 3690,\n        \"samples\": [\n          87397600,\n          58267200,\n          13666500\n        ],\n        \"semantic_type\": \"\",\n        \"description\": \"\"\n      }\n    },\n    {\n      \"column\": \"Dividends\",\n      \"properties\": {\n        \"dtype\": \"number\",\n        \"std\": 0.0,\n        \"min\": 0.0,\n        \"max\": 0.0,\n        \"num_unique_values\": 1,\n        \"samples\": [\n          0.0\n        ],\n        \"semantic_type\": \"\",\n        \"description\": \"\"\n      }\n    },\n    {\n      \"column\": \"Stock Splits\",\n      \"properties\": {\n        \"dtype\": \"number\",\n        \"std\": 0.09557803815215508,\n        \"min\": 0.0,\n        \"max\": 5.0,\n        \"num_unique_values\": 3,\n        \"samples\": [\n          0.0\n        ],\n        \"semantic_type\": \"\",\n        \"description\": \"\"\n      }\n    }\n  ]\n}"
            }
          },
          "metadata": {},
          "execution_count": 9
        }
      ],
      "source": [
        "tesla_data.head()"
      ],
      "execution_count": 9
    },
    {
      "cell_type": "markdown",
      "metadata": {
        "id": "d88591e4-6534-4e3f-9f6a-d7b00d47ea2e"
      },
      "source": [
        "## Question 2: Use Webscraping to Extract Tesla Revenue Data\n"
      ]
    },
    {
      "cell_type": "markdown",
      "metadata": {
        "id": "2cc17b01-c34d-4360-9eb7-2f08513bef2e"
      },
      "source": [
        "Use the `requests` library to download the webpage https://cf-courses-data.s3.us.cloud-object-storage.appdomain.cloud/IBMDeveloperSkillsNetwork-PY0220EN-SkillsNetwork/labs/project/revenue.htm Save the text of the response as a variable named `html_data`.\n"
      ]
    },
    {
      "cell_type": "code",
      "metadata": {
        "colab": {
          "base_uri": "https://localhost:8080/"
        },
        "id": "613365cc-ebf2-4d3d-b51d-b9aeda5262c4",
        "outputId": "d6bf1d4c-f09c-4fe6-fb4e-4c4b06322bf5"
      },
      "outputs": [
        {
          "output_type": "stream",
          "name": "stdout",
          "text": [
            "\n",
            "<!DOCTYPE html>\n",
            "<!--[if lt IE 7]>      <html class=\"no-js lt-ie9 lt-ie8 lt-ie7\"> <![endif]-->\n",
            "<!--[if IE 7]>         <html class=\"no-js lt-ie9 lt-ie8\"> <![endif]-->\n",
            "<!--[if IE 8]>         <html class=\"no-js lt-ie9\"> <![endif]-->\n",
            "<!--[if gt IE 8]><!--> <html class=\"no-js\"> <!--<![endif]-->\n",
            "    <head>\n",
            "        <meta charset=\"utf-8\">\n",
            "        <meta http-equiv=\"X-UA-Compatible\" content=\"IE=edge,chrome=1\">\n",
            "\t\t<link rel=\"canonical\" href=\"https://www.macrotrends.net/stocks/charts/TSLA/tesla/revenue\" />\n",
            "\t\n"
          ]
        }
      ],
      "source": [
        "import requests\n",
        "\n",
        "# URL de la página web que deseas descargar\n",
        "url = \"https://cf-courses-data.s3.us.cloud-object-storage.appdomain.cloud/IBMDeveloperSkillsNetwork-PY0220EN-SkillsNetwork/labs/project/revenue.htm\"\n",
        "\n",
        "# Descargar el contenido de la página web\n",
        "response = requests.get(url)\n",
        "\n",
        "# Guardar el texto de la respuesta en la variable html_data\n",
        "html_data = response.text\n",
        "\n",
        "# Opcional: Imprimir las primeras 500 caracteres del HTML descargado para verificar\n",
        "print(html_data[:500])\n"
      ],
      "execution_count": 10
    },
    {
      "cell_type": "markdown",
      "metadata": {
        "id": "bae86fb0-960a-4eee-bb18-615f7510d255"
      },
      "source": [
        "Parse the html data using `beautiful_soup` using parser i.e `html5lib` or `html.parser`.\n"
      ]
    },
    {
      "cell_type": "code",
      "metadata": {
        "colab": {
          "base_uri": "https://localhost:8080/"
        },
        "id": "866239ec-89cc-4461-a864-90824376b169",
        "outputId": "b151abe2-5651-4e61-9862-28aca2d75d4b"
      },
      "outputs": [
        {
          "output_type": "stream",
          "name": "stdout",
          "text": [
            "<!DOCTYPE html>\n",
            "<!--[if lt IE 7]>      <html class=\"no-js lt-ie9 lt-ie8 lt-ie7\"> <![endif]-->\n",
            "<!--[if IE 7]>         <html class=\"no-js lt-ie9 lt-ie8\"> <![endif]-->\n",
            "<!--[if IE 8]>         <html class=\"no-js lt-ie9\"> <![endif]-->\n",
            "<!--[if gt IE 8]><!-->\n",
            "<html class=\"no-js\">\n",
            " <!--<![endif]-->\n",
            " <head>\n",
            "  <meta charset=\"utf-8\"/>\n",
            "  <meta content=\"IE=edge,chrome=1\" http-equiv=\"X-UA-Compatible\"/>\n",
            "  <link href=\"https://www.macrotrends.net/stocks/charts/TSLA/tesla/revenue\" rel=\"canonical\"/>\n",
            "  <title>\n",
            "   Te\n"
          ]
        }
      ],
      "source": [
        "from bs4 import BeautifulSoup\n",
        "\n",
        "# Usar el parser 'html.parser' para analizar los datos HTML\n",
        "soup = BeautifulSoup(html_data, 'html.parser')\n",
        "\n",
        "# Si prefieres usar 'html5lib' (asegúrate de tener la librería instalada)\n",
        "# soup = BeautifulSoup(html_data, 'html5lib')\n",
        "\n",
        "# Ver los primeros 500 caracteres del HTML parseado\n",
        "print(soup.prettify()[:500])\n"
      ],
      "execution_count": 11
    },
    {
      "cell_type": "markdown",
      "metadata": {
        "id": "f9f4731e-cc31-43dd-b22f-0f69be7323c3"
      },
      "source": [
        "Using `BeautifulSoup` or the `read_html` function extract the table with `Tesla Revenue` and store it into a dataframe named `tesla_revenue`. The dataframe should have columns `Date` and `Revenue`.\n"
      ]
    },
    {
      "cell_type": "markdown",
      "metadata": {
        "id": "ebe825f7-1b3f-474f-a5df-136603103b6c"
      },
      "source": [
        "<details><summary>Step-by-step instructions</summary>\n",
        "\n",
        "```\n",
        "\n",
        "Here are the step-by-step instructions:\n",
        "\n",
        "1. Create an Empty DataFrame\n",
        "2. Find the Relevant Table\n",
        "3. Check for the Tesla Quarterly Revenue Table\n",
        "4. Iterate Through Rows in the Table Body\n",
        "5. Extract Data from Columns\n",
        "6. Append Data to the DataFrame\n",
        "\n",
        "```\n",
        "</details>\n"
      ]
    },
    {
      "cell_type": "markdown",
      "metadata": {
        "id": "dee0fa1f-2755-48f2-a652-932a71fcb857"
      },
      "source": [
        "<details><summary>Click here if you need help locating the table</summary>\n",
        "\n",
        "```\n",
        "    \n",
        "Below is the code to isolate the table, you will now need to loop through the rows and columns like in the previous lab\n",
        "    \n",
        "soup.find_all(\"tbody\")[1]\n",
        "    \n",
        "If you want to use the read_html function the table is located at index 1\n",
        "\n",
        "We are focusing on quarterly revenue in the lab.\n",
        "```\n",
        "\n",
        "</details>\n"
      ]
    },
    {
      "cell_type": "code",
      "metadata": {
        "colab": {
          "base_uri": "https://localhost:8080/"
        },
        "id": "99520961-3ce8-4051-ad74-d2d142256836",
        "outputId": "42474d40-05f3-46b7-95c2-d3129fd1ba4a"
      },
      "outputs": [
        {
          "output_type": "stream",
          "name": "stdout",
          "text": [
            "   Date  Revenue\n",
            "0  2021  $53,823\n",
            "1  2020  $31,536\n",
            "2  2019  $24,578\n",
            "3  2018  $21,461\n",
            "4  2017  $11,759\n"
          ]
        }
      ],
      "source": [
        "import pandas as pd\n",
        "from bs4 import BeautifulSoup\n",
        "\n",
        "# Usamos BeautifulSoup para parsear el contenido HTML\n",
        "soup = BeautifulSoup(html_data, 'html.parser')\n",
        "\n",
        "# Encontrar la tabla que contiene los datos de ingresos de Tesla.\n",
        "# Asumimos que la tabla tiene un id o clase específica. Si no es el caso, puedes usar un método más general.\n",
        "table = soup.find('table')  # Encuentra la primera tabla en el HTML\n",
        "\n",
        "# Usamos pandas para leer la tabla HTML directamente desde el BeautifulSoup objeto\n",
        "tesla_revenue = pd.read_html(str(table))[0]  # El índice [0] toma la primera tabla si hay más de una\n",
        "\n",
        "# Asegúrate de que las columnas sean correctas (solo las columnas 'Date' y 'Revenue')\n",
        "tesla_revenue.columns = ['Date', 'Revenue']\n",
        "\n",
        "# Muestra las primeras filas del DataFrame para verificar\n",
        "print(tesla_revenue.head())\n"
      ],
      "execution_count": 12
    },
    {
      "cell_type": "markdown",
      "metadata": {
        "id": "a757b566-8508-4f6e-b927-55f599882d73"
      },
      "source": [
        "Execute the following line to remove the comma and dollar sign from the `Revenue` column.\n"
      ]
    },
    {
      "cell_type": "code",
      "metadata": {
        "id": "a05d0a5f-8f31-4df9-9396-1bd016bf2e72"
      },
      "outputs": [],
      "source": [
        "\n",
        "tesla_revenue['Revenue'] = tesla_revenue['Revenue'].str.replace(',', '').str.replace('$', '')\n"
      ],
      "execution_count": 13
    },
    {
      "cell_type": "markdown",
      "metadata": {
        "id": "8164b5b7-45be-4f8a-844a-400236dafc4c"
      },
      "source": [
        "Execute the following lines to remove an null or empty strings in the Revenue column.\n"
      ]
    },
    {
      "cell_type": "code",
      "metadata": {
        "id": "3619590e-992c-4091-9812-295357ce4862"
      },
      "outputs": [],
      "source": [
        "tesla_revenue.dropna(inplace=True)\n",
        "\n",
        "tesla_revenue = tesla_revenue[tesla_revenue['Revenue'] != \"\"]"
      ],
      "execution_count": 14
    },
    {
      "cell_type": "markdown",
      "metadata": {
        "id": "d81d7773-ef0f-4b39-a53f-d8eeb1fd3e58"
      },
      "source": [
        "Display the last 5 row of the `tesla_revenue` dataframe using the `tail` function. Take a screenshot of the results.\n"
      ]
    },
    {
      "cell_type": "code",
      "metadata": {
        "colab": {
          "base_uri": "https://localhost:8080/",
          "height": 206
        },
        "id": "cba293e1-2370-4d69-9def-4684e33d716f",
        "outputId": "b99dd4ac-10cc-49b7-ea82-ddb980d12e19"
      },
      "outputs": [
        {
          "output_type": "execute_result",
          "data": {
            "text/plain": [
              "    Date Revenue\n",
              "8   2013    2013\n",
              "9   2012     413\n",
              "10  2011     204\n",
              "11  2010     117\n",
              "12  2009     112"
            ],
            "text/html": [
              "\n",
              "  <div id=\"df-a9a3cc61-4af8-4987-ace7-ac174aaf4760\" class=\"colab-df-container\">\n",
              "    <div>\n",
              "<style scoped>\n",
              "    .dataframe tbody tr th:only-of-type {\n",
              "        vertical-align: middle;\n",
              "    }\n",
              "\n",
              "    .dataframe tbody tr th {\n",
              "        vertical-align: top;\n",
              "    }\n",
              "\n",
              "    .dataframe thead th {\n",
              "        text-align: right;\n",
              "    }\n",
              "</style>\n",
              "<table border=\"1\" class=\"dataframe\">\n",
              "  <thead>\n",
              "    <tr style=\"text-align: right;\">\n",
              "      <th></th>\n",
              "      <th>Date</th>\n",
              "      <th>Revenue</th>\n",
              "    </tr>\n",
              "  </thead>\n",
              "  <tbody>\n",
              "    <tr>\n",
              "      <th>8</th>\n",
              "      <td>2013</td>\n",
              "      <td>2013</td>\n",
              "    </tr>\n",
              "    <tr>\n",
              "      <th>9</th>\n",
              "      <td>2012</td>\n",
              "      <td>413</td>\n",
              "    </tr>\n",
              "    <tr>\n",
              "      <th>10</th>\n",
              "      <td>2011</td>\n",
              "      <td>204</td>\n",
              "    </tr>\n",
              "    <tr>\n",
              "      <th>11</th>\n",
              "      <td>2010</td>\n",
              "      <td>117</td>\n",
              "    </tr>\n",
              "    <tr>\n",
              "      <th>12</th>\n",
              "      <td>2009</td>\n",
              "      <td>112</td>\n",
              "    </tr>\n",
              "  </tbody>\n",
              "</table>\n",
              "</div>\n",
              "    <div class=\"colab-df-buttons\">\n",
              "\n",
              "  <div class=\"colab-df-container\">\n",
              "    <button class=\"colab-df-convert\" onclick=\"convertToInteractive('df-a9a3cc61-4af8-4987-ace7-ac174aaf4760')\"\n",
              "            title=\"Convert this dataframe to an interactive table.\"\n",
              "            style=\"display:none;\">\n",
              "\n",
              "  <svg xmlns=\"http://www.w3.org/2000/svg\" height=\"24px\" viewBox=\"0 -960 960 960\">\n",
              "    <path d=\"M120-120v-720h720v720H120Zm60-500h600v-160H180v160Zm220 220h160v-160H400v160Zm0 220h160v-160H400v160ZM180-400h160v-160H180v160Zm440 0h160v-160H620v160ZM180-180h160v-160H180v160Zm440 0h160v-160H620v160Z\"/>\n",
              "  </svg>\n",
              "    </button>\n",
              "\n",
              "  <style>\n",
              "    .colab-df-container {\n",
              "      display:flex;\n",
              "      gap: 12px;\n",
              "    }\n",
              "\n",
              "    .colab-df-convert {\n",
              "      background-color: #E8F0FE;\n",
              "      border: none;\n",
              "      border-radius: 50%;\n",
              "      cursor: pointer;\n",
              "      display: none;\n",
              "      fill: #1967D2;\n",
              "      height: 32px;\n",
              "      padding: 0 0 0 0;\n",
              "      width: 32px;\n",
              "    }\n",
              "\n",
              "    .colab-df-convert:hover {\n",
              "      background-color: #E2EBFA;\n",
              "      box-shadow: 0px 1px 2px rgba(60, 64, 67, 0.3), 0px 1px 3px 1px rgba(60, 64, 67, 0.15);\n",
              "      fill: #174EA6;\n",
              "    }\n",
              "\n",
              "    .colab-df-buttons div {\n",
              "      margin-bottom: 4px;\n",
              "    }\n",
              "\n",
              "    [theme=dark] .colab-df-convert {\n",
              "      background-color: #3B4455;\n",
              "      fill: #D2E3FC;\n",
              "    }\n",
              "\n",
              "    [theme=dark] .colab-df-convert:hover {\n",
              "      background-color: #434B5C;\n",
              "      box-shadow: 0px 1px 3px 1px rgba(0, 0, 0, 0.15);\n",
              "      filter: drop-shadow(0px 1px 2px rgba(0, 0, 0, 0.3));\n",
              "      fill: #FFFFFF;\n",
              "    }\n",
              "  </style>\n",
              "\n",
              "    <script>\n",
              "      const buttonEl =\n",
              "        document.querySelector('#df-a9a3cc61-4af8-4987-ace7-ac174aaf4760 button.colab-df-convert');\n",
              "      buttonEl.style.display =\n",
              "        google.colab.kernel.accessAllowed ? 'block' : 'none';\n",
              "\n",
              "      async function convertToInteractive(key) {\n",
              "        const element = document.querySelector('#df-a9a3cc61-4af8-4987-ace7-ac174aaf4760');\n",
              "        const dataTable =\n",
              "          await google.colab.kernel.invokeFunction('convertToInteractive',\n",
              "                                                    [key], {});\n",
              "        if (!dataTable) return;\n",
              "\n",
              "        const docLinkHtml = 'Like what you see? Visit the ' +\n",
              "          '<a target=\"_blank\" href=https://colab.research.google.com/notebooks/data_table.ipynb>data table notebook</a>'\n",
              "          + ' to learn more about interactive tables.';\n",
              "        element.innerHTML = '';\n",
              "        dataTable['output_type'] = 'display_data';\n",
              "        await google.colab.output.renderOutput(dataTable, element);\n",
              "        const docLink = document.createElement('div');\n",
              "        docLink.innerHTML = docLinkHtml;\n",
              "        element.appendChild(docLink);\n",
              "      }\n",
              "    </script>\n",
              "  </div>\n",
              "\n",
              "\n",
              "<div id=\"df-3cbd9f83-8d0e-42ce-8612-0a28a6fb9a80\">\n",
              "  <button class=\"colab-df-quickchart\" onclick=\"quickchart('df-3cbd9f83-8d0e-42ce-8612-0a28a6fb9a80')\"\n",
              "            title=\"Suggest charts\"\n",
              "            style=\"display:none;\">\n",
              "\n",
              "<svg xmlns=\"http://www.w3.org/2000/svg\" height=\"24px\"viewBox=\"0 0 24 24\"\n",
              "     width=\"24px\">\n",
              "    <g>\n",
              "        <path d=\"M19 3H5c-1.1 0-2 .9-2 2v14c0 1.1.9 2 2 2h14c1.1 0 2-.9 2-2V5c0-1.1-.9-2-2-2zM9 17H7v-7h2v7zm4 0h-2V7h2v10zm4 0h-2v-4h2v4z\"/>\n",
              "    </g>\n",
              "</svg>\n",
              "  </button>\n",
              "\n",
              "<style>\n",
              "  .colab-df-quickchart {\n",
              "      --bg-color: #E8F0FE;\n",
              "      --fill-color: #1967D2;\n",
              "      --hover-bg-color: #E2EBFA;\n",
              "      --hover-fill-color: #174EA6;\n",
              "      --disabled-fill-color: #AAA;\n",
              "      --disabled-bg-color: #DDD;\n",
              "  }\n",
              "\n",
              "  [theme=dark] .colab-df-quickchart {\n",
              "      --bg-color: #3B4455;\n",
              "      --fill-color: #D2E3FC;\n",
              "      --hover-bg-color: #434B5C;\n",
              "      --hover-fill-color: #FFFFFF;\n",
              "      --disabled-bg-color: #3B4455;\n",
              "      --disabled-fill-color: #666;\n",
              "  }\n",
              "\n",
              "  .colab-df-quickchart {\n",
              "    background-color: var(--bg-color);\n",
              "    border: none;\n",
              "    border-radius: 50%;\n",
              "    cursor: pointer;\n",
              "    display: none;\n",
              "    fill: var(--fill-color);\n",
              "    height: 32px;\n",
              "    padding: 0;\n",
              "    width: 32px;\n",
              "  }\n",
              "\n",
              "  .colab-df-quickchart:hover {\n",
              "    background-color: var(--hover-bg-color);\n",
              "    box-shadow: 0 1px 2px rgba(60, 64, 67, 0.3), 0 1px 3px 1px rgba(60, 64, 67, 0.15);\n",
              "    fill: var(--button-hover-fill-color);\n",
              "  }\n",
              "\n",
              "  .colab-df-quickchart-complete:disabled,\n",
              "  .colab-df-quickchart-complete:disabled:hover {\n",
              "    background-color: var(--disabled-bg-color);\n",
              "    fill: var(--disabled-fill-color);\n",
              "    box-shadow: none;\n",
              "  }\n",
              "\n",
              "  .colab-df-spinner {\n",
              "    border: 2px solid var(--fill-color);\n",
              "    border-color: transparent;\n",
              "    border-bottom-color: var(--fill-color);\n",
              "    animation:\n",
              "      spin 1s steps(1) infinite;\n",
              "  }\n",
              "\n",
              "  @keyframes spin {\n",
              "    0% {\n",
              "      border-color: transparent;\n",
              "      border-bottom-color: var(--fill-color);\n",
              "      border-left-color: var(--fill-color);\n",
              "    }\n",
              "    20% {\n",
              "      border-color: transparent;\n",
              "      border-left-color: var(--fill-color);\n",
              "      border-top-color: var(--fill-color);\n",
              "    }\n",
              "    30% {\n",
              "      border-color: transparent;\n",
              "      border-left-color: var(--fill-color);\n",
              "      border-top-color: var(--fill-color);\n",
              "      border-right-color: var(--fill-color);\n",
              "    }\n",
              "    40% {\n",
              "      border-color: transparent;\n",
              "      border-right-color: var(--fill-color);\n",
              "      border-top-color: var(--fill-color);\n",
              "    }\n",
              "    60% {\n",
              "      border-color: transparent;\n",
              "      border-right-color: var(--fill-color);\n",
              "    }\n",
              "    80% {\n",
              "      border-color: transparent;\n",
              "      border-right-color: var(--fill-color);\n",
              "      border-bottom-color: var(--fill-color);\n",
              "    }\n",
              "    90% {\n",
              "      border-color: transparent;\n",
              "      border-bottom-color: var(--fill-color);\n",
              "    }\n",
              "  }\n",
              "</style>\n",
              "\n",
              "  <script>\n",
              "    async function quickchart(key) {\n",
              "      const quickchartButtonEl =\n",
              "        document.querySelector('#' + key + ' button');\n",
              "      quickchartButtonEl.disabled = true;  // To prevent multiple clicks.\n",
              "      quickchartButtonEl.classList.add('colab-df-spinner');\n",
              "      try {\n",
              "        const charts = await google.colab.kernel.invokeFunction(\n",
              "            'suggestCharts', [key], {});\n",
              "      } catch (error) {\n",
              "        console.error('Error during call to suggestCharts:', error);\n",
              "      }\n",
              "      quickchartButtonEl.classList.remove('colab-df-spinner');\n",
              "      quickchartButtonEl.classList.add('colab-df-quickchart-complete');\n",
              "    }\n",
              "    (() => {\n",
              "      let quickchartButtonEl =\n",
              "        document.querySelector('#df-3cbd9f83-8d0e-42ce-8612-0a28a6fb9a80 button');\n",
              "      quickchartButtonEl.style.display =\n",
              "        google.colab.kernel.accessAllowed ? 'block' : 'none';\n",
              "    })();\n",
              "  </script>\n",
              "</div>\n",
              "\n",
              "    </div>\n",
              "  </div>\n"
            ],
            "application/vnd.google.colaboratory.intrinsic+json": {
              "type": "dataframe",
              "summary": "{\n  \"name\": \"tesla_revenue\",\n  \"rows\": 5,\n  \"fields\": [\n    {\n      \"column\": \"Date\",\n      \"properties\": {\n        \"dtype\": \"number\",\n        \"std\": 1,\n        \"min\": 2009,\n        \"max\": 2013,\n        \"num_unique_values\": 5,\n        \"samples\": [\n          2012,\n          2009,\n          2011\n        ],\n        \"semantic_type\": \"\",\n        \"description\": \"\"\n      }\n    },\n    {\n      \"column\": \"Revenue\",\n      \"properties\": {\n        \"dtype\": \"string\",\n        \"num_unique_values\": 5,\n        \"samples\": [\n          \"413\",\n          \"112\",\n          \"204\"\n        ],\n        \"semantic_type\": \"\",\n        \"description\": \"\"\n      }\n    }\n  ]\n}"
            }
          },
          "metadata": {},
          "execution_count": 15
        }
      ],
      "source": [
        "tesla_revenue.tail()"
      ],
      "execution_count": 15
    },
    {
      "cell_type": "markdown",
      "metadata": {
        "id": "b8341eae-3f5c-4888-99df-a3c804ab1164"
      },
      "source": [
        "## Question 3: Use yfinance to Extract Stock Data\n"
      ]
    },
    {
      "cell_type": "markdown",
      "metadata": {
        "id": "5339e3e4-c2d6-49f9-99eb-45f8cd7b27f9"
      },
      "source": [
        "Using the `Ticker` function enter the ticker symbol of the stock we want to extract data on to create a ticker object. The stock is GameStop and its ticker symbol is `GME`.\n"
      ]
    },
    {
      "cell_type": "code",
      "metadata": {
        "id": "8a611bbc-1d04-4d77-acdf-5d6adbcaf3ae"
      },
      "outputs": [],
      "source": [
        "import yfinance as yf\n",
        "\n",
        "# Crear el objeto ticker para GME\n",
        "gme = yf.Ticker(\"GME\")\n",
        "\n",
        "# Descargar los datos históricos de GME\n",
        "gme_data = gme.history(period=\"max\")\n"
      ],
      "execution_count": 16
    },
    {
      "cell_type": "markdown",
      "metadata": {
        "id": "1a3427ce-fb0a-4331-9002-73b8a5cdd4bc"
      },
      "source": [
        "Using the ticker object and the function `history` extract stock information and save it in a dataframe named `gme_data`. Set the `period` parameter to ` \"max\" ` so we get information for the maximum amount of time.\n"
      ]
    },
    {
      "cell_type": "code",
      "metadata": {
        "id": "d69b6b8f-6591-4b64-b3e3-927d2659c3c9"
      },
      "outputs": [],
      "source": [
        "# Restablecer el índice\n",
        "gme_data.reset_index(inplace=True)\n"
      ],
      "execution_count": 17
    },
    {
      "cell_type": "markdown",
      "metadata": {
        "id": "33369535-6e9a-414e-91d1-c99a67235d8b"
      },
      "source": [
        "**Reset the index** using the `reset_index(inplace=True)` function on the gme_data DataFrame and display the first five rows of the `gme_data` dataframe using the `head` function. Take a screenshot of the results and code from the beginning of Question 3 to the results below.\n"
      ]
    },
    {
      "cell_type": "code",
      "metadata": {
        "colab": {
          "base_uri": "https://localhost:8080/"
        },
        "id": "84c5a2a9-3f58-4021-ab0f-e66c1ef45375",
        "outputId": "753f4b24-d1fd-46f0-8675-6256f7d3cba2"
      },
      "outputs": [
        {
          "output_type": "stream",
          "name": "stdout",
          "text": [
            "                       Date      Open      High       Low     Close    Volume  \\\n",
            "0 2002-02-13 00:00:00-05:00  1.620128  1.693350  1.603296  1.691666  76216000   \n",
            "1 2002-02-14 00:00:00-05:00  1.712707  1.716073  1.670626  1.683250  11021600   \n",
            "2 2002-02-15 00:00:00-05:00  1.683251  1.687459  1.658002  1.674834   8389600   \n",
            "3 2002-02-19 00:00:00-05:00  1.666417  1.666417  1.578047  1.607503   7410400   \n",
            "4 2002-02-20 00:00:00-05:00  1.615921  1.662210  1.603296  1.662210   6892800   \n",
            "\n",
            "   Dividends  Stock Splits  \n",
            "0        0.0           0.0  \n",
            "1        0.0           0.0  \n",
            "2        0.0           0.0  \n",
            "3        0.0           0.0  \n",
            "4        0.0           0.0  \n"
          ]
        }
      ],
      "source": [
        "# Mostrar las primeras 5 filas\n",
        "print(gme_data.head())\n"
      ],
      "execution_count": 18
    },
    {
      "cell_type": "markdown",
      "metadata": {
        "id": "6df06c4b-d13b-435b-ab95-5fb77ac56221"
      },
      "source": [
        "## Question 4: Use Webscraping to Extract GME Revenue Data\n"
      ]
    },
    {
      "cell_type": "markdown",
      "metadata": {
        "id": "cd219971-5159-4910-97b6-40455f1856c9"
      },
      "source": [
        "Use the `requests` library to download the webpage https://cf-courses-data.s3.us.cloud-object-storage.appdomain.cloud/IBMDeveloperSkillsNetwork-PY0220EN-SkillsNetwork/labs/project/stock.html. Save the text of the response as a variable named `html_data_2`.\n"
      ]
    },
    {
      "cell_type": "code",
      "metadata": {
        "id": "414a1fee-aa95-4f80-a96b-50c4a8c4e3f6"
      },
      "outputs": [],
      "source": [
        "import requests\n",
        "\n",
        "# Descargar la página web y almacenar la respuesta en la variable html_data_2\n",
        "url = 'https://cf-courses-data.s3.us.cloud-object-storage.appdomain.cloud/IBMDeveloperSkillsNetwork-PY0220EN-SkillsNetwork/labs/project/stock.html'\n",
        "html_data_2 = requests.get(url).text\n"
      ],
      "execution_count": 23
    },
    {
      "cell_type": "markdown",
      "metadata": {
        "id": "dec79a53-bc1c-44ea-8935-bfe108224daf"
      },
      "source": [
        "Parse the html data using `beautiful_soup` using parser i.e `html5lib` or `html.parser`.\n"
      ]
    },
    {
      "cell_type": "code",
      "metadata": {
        "id": "75d91fbf-03d1-48c4-9f97-5c95956ab289"
      },
      "outputs": [],
      "source": [
        "from bs4 import BeautifulSoup\n",
        "\n",
        "# Parsear los datos HTML con BeautifulSoup\n",
        "soup = BeautifulSoup(html_data_2, 'html.parser')\n"
      ],
      "execution_count": 24
    },
    {
      "cell_type": "markdown",
      "metadata": {
        "id": "1475392e-d438-4dcc-ba6d-32a455b5a050"
      },
      "source": [
        "Using `BeautifulSoup` or the `read_html` function extract the table with `GameStop Revenue` and store it into a dataframe named `gme_revenue`. The dataframe should have columns `Date` and `Revenue`. Make sure the comma and dollar sign is removed from the `Revenue` column.\n"
      ]
    },
    {
      "cell_type": "markdown",
      "metadata": {
        "id": "3a6c2e7a-83a6-4519-ac50-f922dff88b1c"
      },
      "source": [
        "> **Note: Use the method similar to what you did in question 2.**  \n"
      ]
    },
    {
      "cell_type": "markdown",
      "metadata": {
        "id": "38df1400-0b9d-4cd7-a57f-22d27fc79bbf"
      },
      "source": [
        "<details><summary>Click here if you need help locating the table</summary>\n",
        "\n",
        "```\n",
        "    \n",
        "Below is the code to isolate the table, you will now need to loop through the rows and columns like in the previous lab\n",
        "    \n",
        "soup.find_all(\"tbody\")[1]\n",
        "    \n",
        "If you want to use the read_html function the table is located at index 1\n",
        "\n",
        "\n",
        "```\n",
        "\n",
        "</details>\n"
      ]
    },
    {
      "cell_type": "code",
      "metadata": {
        "id": "fdbbf8b0-5214-4d25-b024-70ca4e49982c"
      },
      "outputs": [],
      "source": [
        "import pandas as pd\n",
        "from bs4 import BeautifulSoup\n",
        "\n",
        "# Descargar y parsear los datos HTML con BeautifulSoup\n",
        "html_data_2 = requests.get(url).text\n",
        "soup = BeautifulSoup(html_data_2, 'html.parser')\n",
        "\n",
        "# Encontrar la tabla con los datos de ingresos de GameStop\n",
        "table = soup.find('table')  # Buscar la primera tabla en el HTML\n",
        "\n",
        "# Usar pandas para leer la tabla HTML directamente desde BeautifulSoup\n",
        "gme_revenue = pd.read_html(str(table))[0]\n",
        "\n",
        "# Asegúrate de que las columnas sean correctas\n",
        "gme_revenue.columns = ['Date', 'Revenue']\n",
        "\n"
      ],
      "execution_count": 29
    },
    {
      "cell_type": "markdown",
      "metadata": {
        "id": "284b74d5-adc5-46bd-8873-e49d8e66f00e"
      },
      "source": [
        "Display the last five rows of the `gme_revenue` dataframe using the `tail` function. Take a screenshot of the results.\n"
      ]
    },
    {
      "cell_type": "code",
      "metadata": {
        "colab": {
          "base_uri": "https://localhost:8080/"
        },
        "id": "91b7c016-b29e-4b7b-839c-38b5affd6c14",
        "outputId": "aefaf762-a4d1-405b-df95-5585fb51bac8"
      },
      "outputs": [
        {
          "output_type": "stream",
          "name": "stdout",
          "text": [
            "    Date Revenue\n",
            "11  2009  $8,806\n",
            "12  2008  $7,094\n",
            "13  2007  $5,319\n",
            "14  2006  $3,092\n",
            "15  2005  $1,843\n"
          ]
        }
      ],
      "source": [
        "# Mostrar las últimas 5 filas del DataFrame gme_revenue\n",
        "print(gme_revenue.tail())\n"
      ],
      "execution_count": 30
    },
    {
      "cell_type": "markdown",
      "metadata": {
        "id": "a7bd24f7-3543-4bd0-99eb-23c89a19fa15"
      },
      "source": [
        "## Question 5: Plot Tesla Stock Graph\n"
      ]
    },
    {
      "cell_type": "markdown",
      "metadata": {
        "id": "bb754ba9-57d5-4296-9a75-0dffb23a1a0e"
      },
      "source": [
        "Use the `make_graph` function to graph the Tesla Stock Data, also provide a title for the graph. Note the graph will only show data upto June 2021.\n"
      ]
    },
    {
      "cell_type": "markdown",
      "metadata": {
        "id": "ddca0f8a-73f4-4356-a3b4-2c6522456532"
      },
      "source": [
        "<details><summary>Hint</summary>\n",
        "\n",
        "```\n",
        "\n",
        "You just need to invoke the make_graph function with the required parameter to print the graphs.The structure to call the `make_graph` function is `make_graph(tesla_data, tesla_revenue, 'Tesla')`.\n",
        "\n",
        "```\n",
        "    \n",
        "</details>\n"
      ]
    },
    {
      "cell_type": "code",
      "metadata": {
        "colab": {
          "base_uri": "https://localhost:8080/",
          "height": 507
        },
        "id": "c837bc34-4f96-4de5-818f-84b6c567c7f8",
        "outputId": "cbe7ca97-da16-43c9-cc4c-e0d1bcdac714"
      },
      "outputs": [
        {
          "output_type": "display_data",
          "data": {
            "text/plain": [
              "<Figure size 1000x500 with 1 Axes>"
            ],
            "image/png": "[encoded data removed]"
          },
          "metadata": {}
        }
      ],
      "source": [
        "import matplotlib.pyplot as plt\n",
        "\n",
        "# Filtrar datos de Tesla hasta junio de 2021\n",
        "tesla_data_filtered = tesla_data[tesla_data['Date'] <= '2021-06-30']\n",
        "\n",
        "# Definir la función para graficar\n",
        "def make_graph(data, title=\"Stock Data\"):\n",
        "    plt.figure(figsize=(10, 5))\n",
        "    plt.plot(data['Date'], data['Close'], label=\"Tesla Stock Price\", color='blue')\n",
        "    plt.title(title)\n",
        "    plt.xlabel(\"Date\")\n",
        "    plt.ylabel(\"Stock Price ($)\")\n",
        "    plt.xticks(rotation=45)\n",
        "    plt.legend()\n",
        "    plt.tight_layout()\n",
        "    plt.show()\n",
        "\n",
        "# Usar la función para graficar los datos filtrados\n",
        "make_graph(tesla_data_filtered, title=\"Tesla Stock Price Up to June 2021\")\n"
      ],
      "execution_count": 36
    },
    {
      "cell_type": "markdown",
      "metadata": {
        "id": "7958abf8-866f-41e9-9980-eeacd923e8f9"
      },
      "source": [
        "## Question 6: Plot GameStop Stock Graph\n"
      ]
    },
    {
      "cell_type": "markdown",
      "metadata": {
        "id": "b37160b6-f8f7-4d44-9c44-11871ec8d70d"
      },
      "source": [
        "Use the `make_graph` function to graph the GameStop Stock Data, also provide a title for the graph. The structure to call the `make_graph` function is `make_graph(gme_data, gme_revenue, 'GameStop')`. Note the graph will only show data upto June 2021.\n"
      ]
    },
    {
      "cell_type": "markdown",
      "metadata": {
        "id": "3d6e3fda-269a-473f-b20e-34692f1ffb3c"
      },
      "source": [
        "<details><summary>Hint</summary>\n",
        "\n",
        "```\n",
        "\n",
        "You just need to invoke the make_graph function with the required parameter to print the graphs.The structure to call the `make_graph` function is `make_graph(gme_data, gme_revenue, 'GameStop')`\n",
        "\n",
        "```\n",
        "    \n",
        "</details>\n"
      ]
    },
    {
      "cell_type": "code",
      "metadata": {
        "colab": {
          "base_uri": "https://localhost:8080/",
          "height": 507
        },
        "id": "a71e1227-ad38-45ad-885a-eec6be79e626",
        "outputId": "79d4affd-1d28-43b7-fd56-f5a95fd6b0a9"
      },
      "outputs": [
        {
          "output_type": "display_data",
          "data": {
            "text/plain": [
              "<Figure size 1000x500 with 1 Axes>"
            ],
            "image/png": "[encoded data removed]"
          },
          "metadata": {}
        }
      ],
      "source": [
        "# Filtrar datos de GameStop hasta junio de 2021\n",
        "gme_data_filtered = gme_data[gme_data['Date'] <= '2021-06-30']\n",
        "\n",
        "# Definir la función para graficar\n",
        "def make_graph(data, title=\"Stock Data\", label=\"Stock\"):\n",
        "    plt.figure(figsize=(10, 5))\n",
        "    plt.plot(data['Date'], data['Close'], label=label, color='blue')\n",
        "    plt.title(title)\n",
        "    plt.xlabel(\"Date\")\n",
        "    plt.ylabel(\"Stock Price ($)\")\n",
        "    plt.xticks(rotation=45)\n",
        "    plt.legend()\n",
        "    plt.tight_layout()\n",
        "    plt.show()\n",
        "\n",
        "# Usar la función para graficar los datos filtrados\n",
        "make_graph(gme_data_filtered, title=\"GameStop Stock Price Up to June 2021\", label=\"GameStop Stock Price\")\n"
      ],
      "execution_count": 37
    },
    {
      "cell_type": "markdown",
      "metadata": {
        "id": "4b893c54-6986-48ea-9b93-5fb0273b58c9"
      },
      "source": [
        "<h2>About the Authors:</h2>\n",
        "\n",
        "<a href=\"https://www.linkedin.com/in/joseph-s-50398b136/\">Joseph Santarcangelo</a> has a PhD in Electrical Engineering, his research focused on using machine learning, signal processing, and computer vision to determine how videos impact human cognition. Joseph has been working for IBM since he completed his PhD.\n",
        "\n",
        "Azim Hirjani\n"
      ]
    },
    {
      "cell_type": "markdown",
      "metadata": {
        "id": "6aef7848-21bd-46fb-a019-ba83384f7ee2"
      },
      "source": [
        "## Change Log\n",
        "\n",
        "| Date (YYYY-MM-DD) | Version | Changed By    | Change Description        |\n",
        "| ----------------- | ------- | ------------- | ------------------------- |\n",
        "| 2022-02-28        | 1.2     | Lakshmi Holla | Changed the URL of GameStop |\n",
        "| 2020-11-10        | 1.1     | Malika Singla | Deleted the Optional part |\n",
        "| 2020-08-27        | 1.0     | Malika Singla | Added lab to GitLab       |\n",
        "\n",
        "<hr>\n",
        "\n",
        "## <h3 align=\"center\"> © IBM Corporation 2020. All rights reserved. <h3/>\n",
        "\n",
        "<p>\n"
      ]
    }
  ],
  "metadata": {
    "kernelspec": {
      "name": "python3",
      "display_name": "Python 3 (ipykernel)",
      "language": "python"
    },
    "language_info": {
      "name": "python",
      "version": "3.11.9",
      "mimetype": "text/x-python",
      "codemirror_mode": {
        "name": "ipython",
        "version": 3
      },
      "pygments_lexer": "ipython3",
      "nbconvert_exporter": "python",
      "file_extension": ".py"
    },
    "prev_pub_hash": "847bbe99ddd9f2dc606aa9f731e386824fa521d0c7e38672c5f080f5d71a8326",
    "colab": {
      "provenance": []
    }
  },
  "nbformat": 4,
  "nbformat_minor": 0
}